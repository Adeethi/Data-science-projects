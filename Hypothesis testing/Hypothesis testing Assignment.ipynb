{
 "cells": [
  {
   "cell_type": "markdown",
   "metadata": {},
   "source": [
    "# HYPOTHESIS TESTING"
   ]
  },
  {
   "cell_type": "markdown",
   "metadata": {},
   "source": [
    "## Part 1\n",
    "### Bombay hospitality Ltd.  operating cost hypothesis testing\n"
   ]
  },
  {
   "cell_type": "markdown",
   "metadata": {},
   "source": [
    " #### Data Provided:\n",
    "+\tThe theoretical weekly operating cost model: W = $1,000 + $5X\n",
    "+\tSample of 25 restaurants with a mean weekly cost of Rs. 3,050\n",
    "+\tNumber of units produced in a week (X) follows a normal distribution with a mean (μ) of 600 units and a standard deviation (σ) of 25 units\n"
   ]
  },
  {
   "cell_type": "markdown",
   "metadata": {},
   "source": [
    "#### a. Hypothesis statement\n",
    "\n",
    "The parameter being tested here is population mean"
   ]
  },
  {
   "cell_type": "markdown",
   "metadata": {},
   "source": [
    "+ Null hypothesis: The current cost model is accurate to calculate the weekly operating cost\n",
    "$H_0: \\mu_W = 1,000 + 5 \\mu_X$\n",
    "\n",
    "+ Alternative hypothesis: The current cost model is not accurate to calculate the weekly operating cost\n",
    "$H_a: \\mu_W \\neq\\ 1,000 + 5 \\mu_X$\n",
    "\n",
    "Because the owners concern is that the current model is not accurate, we will just use \"not equal to\" instead of greater than symbol in the alternative hypothesis"
   ]
  },
  {
   "cell_type": "markdown",
   "metadata": {},
   "source": [
    "#### b. Calculating test statistic"
   ]
  },
  {
   "cell_type": "markdown",
   "metadata": {},
   "source": [
    "Let's calculate test statistics that will help you determine the p value later. \n",
    "\n",
    "But before that we have to select the suitable test for the given scenario. In the given case, we use <b>one sample two tailed z-test</b> because:\n",
    "1. Population variance is known\n",
    "2. The sample size is large enough to approximate normality. Even though n = 25, the population distribution follows a normal distribution.  This makes the central limit theorem to hold even for n = 25.\n",
    "\n",
    "The formula for test statistic:\n",
    "\n",
    "$z = \\frac{\\bar{X} - \\mu}{\\frac{\\sigma}{\\sqrt{n}}}$"
   ]
  },
  {
   "cell_type": "code",
   "execution_count": 4,
   "metadata": {},
   "outputs": [
    {
     "data": {
      "text/plain": [
       "-38.0"
      ]
     },
     "execution_count": 4,
     "metadata": {},
     "output_type": "execute_result"
    }
   ],
   "source": [
    "#given values\n",
    "\n",
    "sample_mean = 3050\n",
    "population_mean = 4000\n",
    "population_std = 125\n",
    "n = 25\n",
    "\n",
    "z =( sample_mean - population_mean)/( population_std / n ** 0.5)\n",
    "z"
   ]
  },
  {
   "cell_type": "markdown",
   "metadata": {},
   "source": [
    "#### c. Determine the Critical Value\n",
    "\n",
    "When $\\alpha$ = 0.05 the z critical value = $\\pm$ 1.96\n"
   ]
  },
  {
   "cell_type": "markdown",
   "metadata": {},
   "source": [
    "#### d. Decision\n",
    "The test statistics -38 does not fall between + 1.96 or -1.96, Hence we reject the null hypothesis\n",
    "\n",
    "Alternatively, we can also calculate the p-value and check against alpha. The p-value is lower than alpha, so we indeed reject null hypothesis"
   ]
  },
  {
   "cell_type": "code",
   "execution_count": 9,
   "metadata": {},
   "outputs": [
    {
     "data": {
      "text/plain": [
       "0.0"
      ]
     },
     "execution_count": 9,
     "metadata": {},
     "output_type": "execute_result"
    }
   ],
   "source": [
    "import scipy.stats as stats\n",
    "\n",
    "p_val = stats.norm.cdf(z) * 2\n",
    "p_val"
   ]
  },
  {
   "cell_type": "markdown",
   "metadata": {},
   "source": [
    "#### Conclusion\n",
    "\n",
    "As we reject Null hypothesis, we can say that there is strong statistical evidence that the current model is not accurate.\n",
    "\n",
    "## End of Assignment"
   ]
  },
  {
   "cell_type": "code",
   "execution_count": null,
   "metadata": {},
   "outputs": [],
   "source": []
  }
 ],
 "metadata": {
  "kernelspec": {
   "display_name": "Python 3",
   "language": "python",
   "name": "python3"
  },
  "language_info": {
   "codemirror_mode": {
    "name": "ipython",
    "version": 3
   },
   "file_extension": ".py",
   "mimetype": "text/x-python",
   "name": "python",
   "nbconvert_exporter": "python",
   "pygments_lexer": "ipython3",
   "version": "3.8.5"
  }
 },
 "nbformat": 4,
 "nbformat_minor": 4
}
