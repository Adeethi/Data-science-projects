{
 "cells": [
  {
   "cell_type": "markdown",
   "metadata": {},
   "source": [
    "# HYPOTHESIS TESTING"
   ]
  },
  {
   "cell_type": "markdown",
   "metadata": {},
   "source": [
    "## Part 2\n",
    "### Mizzare Corporation customer satisfaction levels"
   ]
  },
  {
   "cell_type": "markdown",
   "metadata": {},
   "source": [
    "#### Given data\n",
    "\n",
    "Inserting the values in a dataframe, so that it is easier to calculate the values and see the values"
   ]
  },
  {
   "cell_type": "code",
   "execution_count": 69,
   "metadata": {},
   "outputs": [
    {
     "data": {
      "text/html": [
       "<div>\n",
       "<style scoped>\n",
       "    .dataframe tbody tr th:only-of-type {\n",
       "        vertical-align: middle;\n",
       "    }\n",
       "\n",
       "    .dataframe tbody tr th {\n",
       "        vertical-align: top;\n",
       "    }\n",
       "\n",
       "    .dataframe thead th {\n",
       "        text-align: right;\n",
       "    }\n",
       "</style>\n",
       "<table border=\"1\" class=\"dataframe\">\n",
       "  <thead>\n",
       "    <tr style=\"text-align: right;\">\n",
       "      <th></th>\n",
       "      <th>Smart Thermostat</th>\n",
       "      <th>Smart Light</th>\n",
       "      <th>Total</th>\n",
       "    </tr>\n",
       "  </thead>\n",
       "  <tbody>\n",
       "    <tr>\n",
       "      <th>Very Satisfied</th>\n",
       "      <td>50</td>\n",
       "      <td>70</td>\n",
       "      <td>120</td>\n",
       "    </tr>\n",
       "    <tr>\n",
       "      <th>Satisfied</th>\n",
       "      <td>80</td>\n",
       "      <td>100</td>\n",
       "      <td>180</td>\n",
       "    </tr>\n",
       "    <tr>\n",
       "      <th>Neutral</th>\n",
       "      <td>60</td>\n",
       "      <td>90</td>\n",
       "      <td>150</td>\n",
       "    </tr>\n",
       "    <tr>\n",
       "      <th>Unsatisfied</th>\n",
       "      <td>30</td>\n",
       "      <td>50</td>\n",
       "      <td>80</td>\n",
       "    </tr>\n",
       "    <tr>\n",
       "      <th>Very Unsatisfied</th>\n",
       "      <td>20</td>\n",
       "      <td>50</td>\n",
       "      <td>70</td>\n",
       "    </tr>\n",
       "  </tbody>\n",
       "</table>\n",
       "</div>"
      ],
      "text/plain": [
       "                  Smart Thermostat  Smart Light  Total\n",
       "Very Satisfied                  50           70    120\n",
       "Satisfied                       80          100    180\n",
       "Neutral                         60           90    150\n",
       "Unsatisfied                     30           50     80\n",
       "Very Unsatisfied                20           50     70"
      ]
     },
     "execution_count": 69,
     "metadata": {},
     "output_type": "execute_result"
    }
   ],
   "source": [
    "import pandas as pd\n",
    "table = [[50,70],\n",
    "[80,  100],\n",
    "[60,90] ,\n",
    "[30,50],\n",
    "[20,50]]\n",
    "sat = pd.DataFrame(table, index =[ \"Very Satisfied\",\"Satisfied\",\"Neutral\",\"Unsatisfied\", \"Very Unsatisfied\"], columns=[\"Smart Thermostat\", \"Smart Light\"])\n",
    "sat['Total'] = [sum(i) for i in table]\n",
    "sat   "
   ]
  },
  {
   "cell_type": "markdown",
   "metadata": {},
   "source": [
    "#### a. State the Hypotheses\n",
    "\n",
    "+ Null hypothesis: There is no significant association between the type of smart home device purchased and the customer satisfaction level. \n",
    "+  Alternative Hypothesis:  The type of smart home device purchased and the customer satisfaction level are related to each other.\n",
    "\n",
    "The test we are going to do is Chi Square test of independence \n",
    " \n",
    " For that we need to first calculate the test statistic\n",
    " \n",
    " #### b. Test statistics\n",
    " \n",
    " The formula to calculate the Chi square statistics is:\n",
    "$ \\chi^2 = \\sum \\frac{(O_i - E_i)^2}{E_i}$\n",
    "\n",
    "Where:\n",
    "- ( $O_i $) = Observed frequency for category ( i )\n",
    "- ($ E_i $) = Expected frequency for category ( i )\n",
    "\n",
    "The formula for calculating the expected value:\n",
    "$E = \\frac{(\\text{Row Total} \\times \\text{Column Total})}{\\text{Grand Total}}$\n",
    "\n",
    "We will calculate the expected value using the built in function in python and store that in our dataframe"
   ]
  },
  {
   "cell_type": "code",
   "execution_count": 70,
   "metadata": {},
   "outputs": [
    {
     "data": {
      "text/plain": [
       "array([[ 48.,  72.],\n",
       "       [ 72., 108.],\n",
       "       [ 60.,  90.],\n",
       "       [ 32.,  48.],\n",
       "       [ 28.,  42.]])"
      ]
     },
     "execution_count": 70,
     "metadata": {},
     "output_type": "execute_result"
    }
   ],
   "source": [
    "import scipy.stats as stats  \n",
    "stat, p, dof, expected = stats.chi2_contingency(sat[[\"Smart Thermostat\",\"Smart Light\"]])\n",
    "expected"
   ]
  },
  {
   "cell_type": "code",
   "execution_count": 71,
   "metadata": {},
   "outputs": [
    {
     "data": {
      "text/html": [
       "<div>\n",
       "<style scoped>\n",
       "    .dataframe tbody tr th:only-of-type {\n",
       "        vertical-align: middle;\n",
       "    }\n",
       "\n",
       "    .dataframe tbody tr th {\n",
       "        vertical-align: top;\n",
       "    }\n",
       "\n",
       "    .dataframe thead th {\n",
       "        text-align: right;\n",
       "    }\n",
       "</style>\n",
       "<table border=\"1\" class=\"dataframe\">\n",
       "  <thead>\n",
       "    <tr style=\"text-align: right;\">\n",
       "      <th></th>\n",
       "      <th>Smart Thermostat</th>\n",
       "      <th>Smart Light</th>\n",
       "      <th>Total</th>\n",
       "      <th>Smart Thermostat Expected</th>\n",
       "      <th>Smart Light Expected</th>\n",
       "    </tr>\n",
       "  </thead>\n",
       "  <tbody>\n",
       "    <tr>\n",
       "      <th>Very Satisfied</th>\n",
       "      <td>50</td>\n",
       "      <td>70</td>\n",
       "      <td>120</td>\n",
       "      <td>48.0</td>\n",
       "      <td>72.0</td>\n",
       "    </tr>\n",
       "    <tr>\n",
       "      <th>Satisfied</th>\n",
       "      <td>80</td>\n",
       "      <td>100</td>\n",
       "      <td>180</td>\n",
       "      <td>72.0</td>\n",
       "      <td>108.0</td>\n",
       "    </tr>\n",
       "    <tr>\n",
       "      <th>Neutral</th>\n",
       "      <td>60</td>\n",
       "      <td>90</td>\n",
       "      <td>150</td>\n",
       "      <td>60.0</td>\n",
       "      <td>90.0</td>\n",
       "    </tr>\n",
       "    <tr>\n",
       "      <th>Unsatisfied</th>\n",
       "      <td>30</td>\n",
       "      <td>50</td>\n",
       "      <td>80</td>\n",
       "      <td>32.0</td>\n",
       "      <td>48.0</td>\n",
       "    </tr>\n",
       "    <tr>\n",
       "      <th>Very Unsatisfied</th>\n",
       "      <td>20</td>\n",
       "      <td>50</td>\n",
       "      <td>70</td>\n",
       "      <td>28.0</td>\n",
       "      <td>42.0</td>\n",
       "    </tr>\n",
       "  </tbody>\n",
       "</table>\n",
       "</div>"
      ],
      "text/plain": [
       "                  Smart Thermostat  Smart Light  Total  \\\n",
       "Very Satisfied                  50           70    120   \n",
       "Satisfied                       80          100    180   \n",
       "Neutral                         60           90    150   \n",
       "Unsatisfied                     30           50     80   \n",
       "Very Unsatisfied                20           50     70   \n",
       "\n",
       "                  Smart Thermostat Expected  Smart Light Expected  \n",
       "Very Satisfied                         48.0                  72.0  \n",
       "Satisfied                              72.0                 108.0  \n",
       "Neutral                                60.0                  90.0  \n",
       "Unsatisfied                            32.0                  48.0  \n",
       "Very Unsatisfied                       28.0                  42.0  "
      ]
     },
     "execution_count": 71,
     "metadata": {},
     "output_type": "execute_result"
    }
   ],
   "source": [
    "sat[\"Smart Thermostat Expected\"] = [i[0] for i in expected]\n",
    "sat[\"Smart Light Expected\"] = [i[1] for i in expected]\n",
    "sat"
   ]
  },
  {
   "cell_type": "markdown",
   "metadata": {},
   "source": [
    "Now, we wills store the chi square contributions then we will proceed to calculate the chi square test statistic"
   ]
  },
  {
   "cell_type": "code",
   "execution_count": 73,
   "metadata": {},
   "outputs": [
    {
     "data": {
      "text/html": [
       "<div>\n",
       "<style scoped>\n",
       "    .dataframe tbody tr th:only-of-type {\n",
       "        vertical-align: middle;\n",
       "    }\n",
       "\n",
       "    .dataframe tbody tr th {\n",
       "        vertical-align: top;\n",
       "    }\n",
       "\n",
       "    .dataframe thead th {\n",
       "        text-align: right;\n",
       "    }\n",
       "</style>\n",
       "<table border=\"1\" class=\"dataframe\">\n",
       "  <thead>\n",
       "    <tr style=\"text-align: right;\">\n",
       "      <th></th>\n",
       "      <th>Smart Thermostat</th>\n",
       "      <th>Smart Light</th>\n",
       "      <th>Total</th>\n",
       "      <th>Smart Thermostat Expected</th>\n",
       "      <th>Smart Light Expected</th>\n",
       "      <th>Chi sq Thermo</th>\n",
       "      <th>Chi sq Light</th>\n",
       "    </tr>\n",
       "  </thead>\n",
       "  <tbody>\n",
       "    <tr>\n",
       "      <th>Very Satisfied</th>\n",
       "      <td>50</td>\n",
       "      <td>70</td>\n",
       "      <td>120</td>\n",
       "      <td>48.0</td>\n",
       "      <td>72.0</td>\n",
       "      <td>0.083333</td>\n",
       "      <td>0.055556</td>\n",
       "    </tr>\n",
       "    <tr>\n",
       "      <th>Satisfied</th>\n",
       "      <td>80</td>\n",
       "      <td>100</td>\n",
       "      <td>180</td>\n",
       "      <td>72.0</td>\n",
       "      <td>108.0</td>\n",
       "      <td>0.888889</td>\n",
       "      <td>0.592593</td>\n",
       "    </tr>\n",
       "    <tr>\n",
       "      <th>Neutral</th>\n",
       "      <td>60</td>\n",
       "      <td>90</td>\n",
       "      <td>150</td>\n",
       "      <td>60.0</td>\n",
       "      <td>90.0</td>\n",
       "      <td>0.000000</td>\n",
       "      <td>0.000000</td>\n",
       "    </tr>\n",
       "    <tr>\n",
       "      <th>Unsatisfied</th>\n",
       "      <td>30</td>\n",
       "      <td>50</td>\n",
       "      <td>80</td>\n",
       "      <td>32.0</td>\n",
       "      <td>48.0</td>\n",
       "      <td>0.125000</td>\n",
       "      <td>0.083333</td>\n",
       "    </tr>\n",
       "    <tr>\n",
       "      <th>Very Unsatisfied</th>\n",
       "      <td>20</td>\n",
       "      <td>50</td>\n",
       "      <td>70</td>\n",
       "      <td>28.0</td>\n",
       "      <td>42.0</td>\n",
       "      <td>2.285714</td>\n",
       "      <td>1.523810</td>\n",
       "    </tr>\n",
       "  </tbody>\n",
       "</table>\n",
       "</div>"
      ],
      "text/plain": [
       "                  Smart Thermostat  Smart Light  Total  \\\n",
       "Very Satisfied                  50           70    120   \n",
       "Satisfied                       80          100    180   \n",
       "Neutral                         60           90    150   \n",
       "Unsatisfied                     30           50     80   \n",
       "Very Unsatisfied                20           50     70   \n",
       "\n",
       "                  Smart Thermostat Expected  Smart Light Expected  \\\n",
       "Very Satisfied                         48.0                  72.0   \n",
       "Satisfied                              72.0                 108.0   \n",
       "Neutral                                60.0                  90.0   \n",
       "Unsatisfied                            32.0                  48.0   \n",
       "Very Unsatisfied                       28.0                  42.0   \n",
       "\n",
       "                  Chi sq Thermo  Chi sq Light  \n",
       "Very Satisfied         0.083333      0.055556  \n",
       "Satisfied              0.888889      0.592593  \n",
       "Neutral                0.000000      0.000000  \n",
       "Unsatisfied            0.125000      0.083333  \n",
       "Very Unsatisfied       2.285714      1.523810  "
      ]
     },
     "execution_count": 73,
     "metadata": {},
     "output_type": "execute_result"
    }
   ],
   "source": [
    "sat[\"Chi sq Thermo\"] = (sat[\"Smart Thermostat\"] - sat[\"Smart Thermostat Expected\"])**2/sat[\"Smart Thermostat Expected\"]\n",
    "sat[\"Chi sq Light\"] =( sat[\"Smart Light\"] - sat[\"Smart Light Expected\"])**2/sat[\"Smart Light Expected\"]\n",
    "sat"
   ]
  },
  {
   "cell_type": "code",
   "execution_count": 75,
   "metadata": {},
   "outputs": [
    {
     "data": {
      "text/plain": [
       "5.638227513227513"
      ]
     },
     "execution_count": 75,
     "metadata": {},
     "output_type": "execute_result"
    }
   ],
   "source": [
    "chi_sq = sat[\"Chi sq Thermo\"].sum() +sat[\"Chi sq Light\"].sum()\n",
    "chi_sq"
   ]
  },
  {
   "cell_type": "markdown",
   "metadata": {},
   "source": [
    "#### c. Determine the Critical Value\n",
    "\n",
    "##### Degree of freedom = (Number of rows - 1) $x$ (Number of columns - 1)\n",
    "\n",
    "Hence, df = 4\n",
    "\n",
    "According to the chi square distribution, the critical value is 9.488 at alpha = 0.05.\n",
    "\n",
    "#### d. Final decision and conclusion\n",
    "\n",
    "According to the chi square distribution, the critical value is 9.488.\n",
    "Our test statistics is less than critical value. Also, the p-value(0.0.228) which is given above is greater than alpha.\n",
    "##### Hence, we fail to reject null hypothesis\n",
    "#### There is no statistically significant association between th type of smart home device purchased and the customer satisfaction level. Any observed differences in the table are likely due to random chance.\n",
    "\n",
    "\n",
    "\n",
    "## End of assignment"
   ]
  }
 ],
 "metadata": {
  "kernelspec": {
   "display_name": "Python 3",
   "language": "python",
   "name": "python3"
  },
  "language_info": {
   "codemirror_mode": {
    "name": "ipython",
    "version": 3
   },
   "file_extension": ".py",
   "mimetype": "text/x-python",
   "name": "python",
   "nbconvert_exporter": "python",
   "pygments_lexer": "ipython3",
   "version": "3.8.5"
  }
 },
 "nbformat": 4,
 "nbformat_minor": 4
}
