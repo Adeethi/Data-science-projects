{
 "cells": [
  {
   "cell_type": "markdown",
   "metadata": {},
   "source": [
    "# Basics of Python"
   ]
  },
  {
   "cell_type": "markdown",
   "metadata": {},
   "source": [
    " <span style=\"float:right;\">-    Adeethi Mullakody</span>"
   ]
  },
  {
   "cell_type": "markdown",
   "metadata": {},
   "source": [
    "## Exercise 1: Prime Numbers"
   ]
  },
  {
   "cell_type": "code",
   "execution_count": 1,
   "metadata": {},
   "outputs": [
    {
     "data": {
      "text/plain": [
       "True"
      ]
     },
     "execution_count": 1,
     "metadata": {},
     "output_type": "execute_result"
    }
   ],
   "source": [
    "def check_prime(n : int) -> bool:\n",
    "    \n",
    "    \"\"\"\n",
    "    the function check whether an integer is prime or not\n",
    "    \n",
    "    Returns:\n",
    "    \n",
    "    -True: If the number is prime number\n",
    "    -False: If the number is not prime number\n",
    "    \n",
    "    \"\"\"\n",
    "    \n",
    "    #any number less than 1 is not prime number\n",
    "    if (n<= 1):\n",
    "        return False\n",
    "    \n",
    "    \n",
    "    #2 and 3 are prime number and is checked first before others\n",
    "    elif (n==2 or n==3):\n",
    "        return True\n",
    "    \n",
    "    # checking all the number divisible by 2 and 3, if yes it returns False\n",
    "    elif n%2 == 0 or n%3 == 0:\n",
    "        return False\n",
    "    \n",
    "    #if the number doesn't satisfy any of the conditions above it will check all the numbers till it's square root\n",
    "    #because the multiples of a number cannot be larger than it's square root\n",
    "    else:\n",
    "        \n",
    "        i = 5        #numbers starting from 5 is remaining to be checked\n",
    "        \n",
    "        while( i * i <= n):  # Check divisors up to  square root of n\n",
    "            if n % i == 0 or n % (i + 2) == 0:   #here  i+2 is also checked to reduce the number of loops\n",
    "                return False\n",
    "            \n",
    "        # i+1, i+4 is divible by 3 which has been checked\n",
    "        #i+3, i+5 is divisible by 2 which has also been checked\n",
    "\n",
    "        i+=6\n",
    "        \n",
    "    #if none of the above condition is met, return True\n",
    "    return True  \n",
    "\n",
    "check_prime(17)\n",
    "            "
   ]
  },
  {
   "cell_type": "markdown",
   "metadata": {},
   "source": [
    "## Exercise 2: Product of Random Numbers"
   ]
  },
  {
   "cell_type": "code",
   "execution_count": 2,
   "metadata": {},
   "outputs": [
    {
     "name": "stdout",
     "output_type": "stream",
     "text": [
      "7 10\n"
     ]
    }
   ],
   "source": [
    "import random\n",
    "\n",
    "def check_products(a,b,n):\n",
    "    if (n == ( a * b)):\n",
    "        return \"Right Answer!!!!\"\n",
    "    else:\n",
    "        return \"Wrong Answer!!\"\n",
    "    \n",
    "def get_integer_input():\n",
    "    while True:\n",
    "        try:\n",
    "            user_input = input(f\"Enter the product of {a} and {b}: \")\n",
    "            number = int(user_input)  # Try to convert the input to an integer\n",
    "            return number  # If successful, return the integer\n",
    "        except ValueError:\n",
    "            print(\"Whoops! Seems like you entered something other than a integer!\")\n",
    "\n",
    "            \n",
    "#get a random integer between 0 and 10. I haven't used large numbers so that it is easier to cross check the actual answer.\n",
    "a = random.randint(0,10)   \n",
    "b = random.randint(0,10)\n",
    "print(a, b)\n",
    "\n",
    "\n",
    "    "
   ]
  },
  {
   "cell_type": "code",
   "execution_count": 3,
   "metadata": {},
   "outputs": [
    {
     "name": "stdout",
     "output_type": "stream",
     "text": [
      "Enter the product of 7 and 10: 70\n",
      "Right Answer!!!!\n"
     ]
    }
   ],
   "source": [
    "val = get_integer_input()\n",
    "print(check_products(a,b,val))"
   ]
  },
  {
   "cell_type": "markdown",
   "metadata": {},
   "source": [
    "## Exercise 3: Squares of Even/Odd Numbers"
   ]
  },
  {
   "cell_type": "code",
   "execution_count": 4,
   "metadata": {},
   "outputs": [
    {
     "data": {
      "text/plain": [
       "[10000,\n",
       " 10404,\n",
       " 10816,\n",
       " 11236,\n",
       " 11664,\n",
       " 12100,\n",
       " 12544,\n",
       " 12996,\n",
       " 13456,\n",
       " 13924,\n",
       " 14400,\n",
       " 14884,\n",
       " 15376,\n",
       " 15876,\n",
       " 16384,\n",
       " 16900,\n",
       " 17424,\n",
       " 17956,\n",
       " 18496,\n",
       " 19044,\n",
       " 19600,\n",
       " 20164,\n",
       " 20736,\n",
       " 21316,\n",
       " 21904,\n",
       " 22500,\n",
       " 23104,\n",
       " 23716,\n",
       " 24336,\n",
       " 24964,\n",
       " 25600,\n",
       " 26244,\n",
       " 26896,\n",
       " 27556,\n",
       " 28224,\n",
       " 28900,\n",
       " 29584,\n",
       " 30276,\n",
       " 30976,\n",
       " 31684,\n",
       " 32400,\n",
       " 33124,\n",
       " 33856,\n",
       " 34596,\n",
       " 35344,\n",
       " 36100,\n",
       " 36864,\n",
       " 37636,\n",
       " 38416,\n",
       " 39204,\n",
       " 40000]"
      ]
     },
     "execution_count": 4,
     "metadata": {},
     "output_type": "execute_result"
    }
   ],
   "source": [
    "#this code prints the even squared numbers between 100 and 200, including 200\n",
    "\n",
    "even_squares  =[i*i for i in range(100, 201, 2)]\n",
    "    \n",
    "even_squares\n"
   ]
  },
  {
   "cell_type": "markdown",
   "metadata": {},
   "source": [
    "## Exercise 4: Word counter"
   ]
  },
  {
   "cell_type": "code",
   "execution_count": 10,
   "metadata": {},
   "outputs": [
    {
     "name": "stdout",
     "output_type": "stream",
     "text": [
      "Enter the text to check the word count: This is me, Adeethi and this is a python assignment.\n",
      "this : 2\n",
      "is : 2\n",
      "me : 1\n",
      "adeethi : 1\n",
      "and : 1\n",
      "a : 1\n",
      "python : 1\n",
      "assignment : 1\n"
     ]
    }
   ],
   "source": [
    "from collections import Counter\n",
    "import string\n",
    "\n",
    "#Utilizing Counter class instead of manually checking through loops for efficiency purposes\n",
    "\n",
    "#get the input from the user\n",
    "input_text = input(\"Enter the text to check the word count: \").lower()\n",
    "\n",
    "# Remove punctuation from the input text\n",
    "input_text = input_text.translate(str.maketrans('', '', string.punctuation))\n",
    "\n",
    "#Count the number of occurence of each word in an input text with whitespace as delimiter and return as Counter object(dictionary subclass)\n",
    "list_of_counts = Counter(input_text.split())\n",
    "\n",
    "#printing with good formatting\n",
    "for key, value in list_of_counts.items():\n",
    "    print(f\"{key} : {value}\")"
   ]
  },
  {
   "cell_type": "markdown",
   "metadata": {},
   "source": [
    "## Exercise 5: Check for Palindrome"
   ]
  },
  {
   "cell_type": "code",
   "execution_count": 11,
   "metadata": {},
   "outputs": [],
   "source": [
    "import string\n",
    "\n",
    "\n",
    "def is_palindrome(word: str) -> bool:\n",
    "    \n",
    "    \"\"\"\n",
    "    Checks if the given word or phrase is a palindrome, ignoring case, punctuation, and special characters.\n",
    "    \n",
    "    It checks the word or phrase by it's reverse. \n",
    "    \n",
    "    Returns:\n",
    "    \n",
    "    True : if its a palindrome\n",
    "    False: if it is not a palindrome\n",
    "    \n",
    "    \"\"\"\n",
    "    \n",
    "    #converting into string if the parameter is anything other than sequence of characters\n",
    "    word = str (word)    \n",
    "    \n",
    "    #removing any punctuations if present\n",
    "    word = word.translate(str.maketrans('', '', string.punctuation))  \n",
    "\n",
    "    #ignores the case by converting the entire string into lowercase\n",
    "    word =  str(word).lower()   \n",
    "    \n",
    "     #string is considered here as a list of characters\n",
    "    return word == word[::-1]    \n"
   ]
  },
  {
   "cell_type": "markdown",
   "metadata": {},
   "source": [
    "# The end of assignment"
   ]
  }
 ],
 "metadata": {
  "kernelspec": {
   "display_name": "Python 3",
   "language": "python",
   "name": "python3"
  },
  "language_info": {
   "codemirror_mode": {
    "name": "ipython",
    "version": 3
   },
   "file_extension": ".py",
   "mimetype": "text/x-python",
   "name": "python",
   "nbconvert_exporter": "python",
   "pygments_lexer": "ipython3",
   "version": "3.8.5"
  }
 },
 "nbformat": 4,
 "nbformat_minor": 4
}
